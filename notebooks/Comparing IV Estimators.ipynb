{
 "cells": [
  {
   "cell_type": "code",
   "execution_count": 1,
   "metadata": {
    "collapsed": true,
    "pycharm": {
     "name": "#%%\n"
    }
   },
   "outputs": [
    {
     "name": "stderr",
     "output_type": "stream",
     "text": [
      "/Users/ava/PycharmProjects/auto-causality/venv/lib/python3.8/site-packages/xgboost/compat.py:31: FutureWarning: pandas.Int64Index is deprecated and will be removed from pandas in a future version. Use pandas.Index with the appropriate dtype instead.\n",
      "  from pandas import MultiIndex, Int64Index\n",
      "OMP: Info #270: omp_set_nested routine deprecated, please use omp_set_max_active_levels instead.\n"
     ]
    }
   ],
   "source": [
    "import os\n",
    "import sys\n",
    "import numpy as np\n",
    "import warnings\n",
    "import pandas as pd\n",
    "import matplotlib\n",
    "from scipy import special\n",
    "import matplotlib.pyplot as plt\n",
    "from sklearn.model_selection import train_test_split\n",
    "\n",
    "root_path = root_path = os.path.realpath('../..')\n",
    "try:\n",
    "    import auto_causality\n",
    "except ModuleNotFoundError:\n",
    "    sys.path.append(os.path.join(root_path, \"auto-causality\"))\n",
    "\n",
    "from auto_causality import AutoCausality\n",
    "from auto_causality.data_utils import preprocess_dataset\n",
    "from auto_causality.scoring import Scorer\n",
    "\n",
    "warnings.filterwarnings(\"ignore\")"
   ]
  },
  {
   "cell_type": "markdown",
   "metadata": {
    "pycharm": {
     "name": "#%% md\n"
    }
   },
   "source": [
    "## Data Generation Process"
   ]
  },
  {
   "cell_type": "markdown",
   "metadata": {
    "pycharm": {
     "name": "#%% md\n"
    }
   },
   "source": [
    "Here we use a data generation process implemented by EconML for IV models and described as follows:\n",
    "\n",
    "We construct the DGP as below. The instrument corresponds to a fully randomized recommendation of treatment. Then each sample complies with the recommendation to some degree. This probability depends on both the observed feature $X$ and an unobserved confounder that has a direct effect on the outcome\n",
    "\n",
    "\n",
    "\\begin{align}\n",
    "W \\sim \\; & \\text{Normal}(0,\\, I_{n_w})   \\tag{Observed confounders}\\\\\n",
    "Z \\sim \\; & \\text{Bernoulli}(p=0.5)   \\tag{Instrument}\\\\\n",
    "\\nu \\sim \\; & \\text{U}[0, 5] \\tag{Unobserved confounder}\\\\\n",
    "C \\sim \\; & \\text{Bernoulli}(p=0.8 \\cdot \\text{Sigmoid}(0.4 \\cdot X[0] + \\nu))   \\tag{Compliers when recommended}\\\\\n",
    "C0 \\sim \\; & \\text{Bernoulli}(p=0.006)   \\tag{Non-Compliers when not recommended}\\\\\n",
    "T = \\; & C \\cdot Z + C0 \\cdot (1-Z)  \\tag{Treatment}\\\\\n",
    "y \\sim \\; & \\theta \\cdot T + 2 \\cdot \\nu + 5 \\cdot (X[3]>0) + 0.1 \\cdot \\text{U}[0, 1]  \\tag{Outcome}\n",
    "\\end{align}\n"
   ]
  },
  {
   "cell_type": "code",
   "execution_count": 2,
   "metadata": {
    "pycharm": {
     "name": "#%%\n"
    }
   },
   "outputs": [],
   "source": [
    "def iv_dgp_econml(n=5000, p=10, true_effect=10):\n",
    "\n",
    "    X = np.random.normal(0, 1, size=(n, p))\n",
    "    Z = np.random.binomial(1, 0.5, size=(n,))\n",
    "    nu = np.random.uniform(0, 5, size=(n,))\n",
    "    coef_Z = 0.8\n",
    "    C = np.random.binomial(\n",
    "        1, coef_Z * special.expit(0.4 * X[:, 0] + nu)\n",
    "    )  # Compliers when recomended\n",
    "    C0 = np.random.binomial(\n",
    "        1, 0.006 * np.ones(X.shape[0])\n",
    "    )  # Non-compliers when not recommended\n",
    "    T = C * Z + C0 * (1 - Z)\n",
    "    y = (\n",
    "        true_effect(X) * T\n",
    "        + 2 * nu\n",
    "        + 5 * (X[:, 3] > 0)\n",
    "        + 0.1 * np.random.uniform(0, 1, size=(n,))\n",
    "    )\n",
    "    cov = [f\"x{i}\" for i in range(1, X.shape[1] + 1)]\n",
    "    df = pd.DataFrame(X, columns=cov)\n",
    "\n",
    "    df[\"y\"] = y\n",
    "    df[\"treatment\"] = T\n",
    "    df[\"Z\"] = Z\n",
    "\n",
    "    return df"
   ]
  },
  {
   "cell_type": "code",
   "execution_count": 3,
   "metadata": {
    "pycharm": {
     "name": "#%%\n"
    }
   },
   "outputs": [],
   "source": [
    "# Dataset parameters\n",
    "treatment = \"treatment\"\n",
    "targets = [\"y\"]\n",
    "instruments = [\"Z\"]"
   ]
  },
  {
   "cell_type": "markdown",
   "metadata": {
    "pycharm": {
     "name": "#%% md\n"
    }
   },
   "source": [
    "### Model Fitting (1): Constant Effect (ATE)"
   ]
  },
  {
   "cell_type": "markdown",
   "metadata": {
    "pycharm": {
     "name": "#%% md\n"
    }
   },
   "source": [
    "We define a constant treatment effect (ATE) to be searched by the auto-causality tool for all named IV estimators.\n",
    "\n",
    "\\begin{align}\n",
    "\\theta = \\; & 7.5 \\tag{ATE}\\\\\n",
    "\\end{align}"
   ]
  },
  {
   "cell_type": "code",
   "execution_count": 6,
   "metadata": {
    "pycharm": {
     "name": "#%%\n"
    }
   },
   "outputs": [
    {
     "data": {
      "text/html": [
       "<div>\n",
       "<style scoped>\n",
       "    .dataframe tbody tr th:only-of-type {\n",
       "        vertical-align: middle;\n",
       "    }\n",
       "\n",
       "    .dataframe tbody tr th {\n",
       "        vertical-align: top;\n",
       "    }\n",
       "\n",
       "    .dataframe thead th {\n",
       "        text-align: right;\n",
       "    }\n",
       "</style>\n",
       "<table border=\"1\" class=\"dataframe\">\n",
       "  <thead>\n",
       "    <tr style=\"text-align: right;\">\n",
       "      <th></th>\n",
       "      <th>treatment</th>\n",
       "      <th>y</th>\n",
       "      <th>Z</th>\n",
       "      <th>x1</th>\n",
       "      <th>x2</th>\n",
       "      <th>x3</th>\n",
       "      <th>x4</th>\n",
       "      <th>x5</th>\n",
       "      <th>x6</th>\n",
       "      <th>x7</th>\n",
       "      <th>x8</th>\n",
       "      <th>x9</th>\n",
       "      <th>x10</th>\n",
       "      <th>x11</th>\n",
       "      <th>x12</th>\n",
       "      <th>x13</th>\n",
       "      <th>x14</th>\n",
       "      <th>x15</th>\n",
       "      <th>random</th>\n",
       "    </tr>\n",
       "  </thead>\n",
       "  <tbody>\n",
       "    <tr>\n",
       "      <th>2081</th>\n",
       "      <td>1.0</td>\n",
       "      <td>12.804679</td>\n",
       "      <td>1.0</td>\n",
       "      <td>-0.987539</td>\n",
       "      <td>-0.549924</td>\n",
       "      <td>-0.192423</td>\n",
       "      <td>-0.051339</td>\n",
       "      <td>0.617653</td>\n",
       "      <td>-0.293630</td>\n",
       "      <td>1.024159</td>\n",
       "      <td>-0.620957</td>\n",
       "      <td>1.364169</td>\n",
       "      <td>-0.386797</td>\n",
       "      <td>-0.876347</td>\n",
       "      <td>0.084273</td>\n",
       "      <td>1.531466</td>\n",
       "      <td>-0.572508</td>\n",
       "      <td>0.743149</td>\n",
       "      <td>1.0</td>\n",
       "    </tr>\n",
       "    <tr>\n",
       "      <th>4329</th>\n",
       "      <td>0.0</td>\n",
       "      <td>11.180178</td>\n",
       "      <td>0.0</td>\n",
       "      <td>-1.280214</td>\n",
       "      <td>0.050470</td>\n",
       "      <td>1.322372</td>\n",
       "      <td>0.362025</td>\n",
       "      <td>-0.105957</td>\n",
       "      <td>1.673486</td>\n",
       "      <td>-1.672253</td>\n",
       "      <td>-1.355733</td>\n",
       "      <td>-0.902657</td>\n",
       "      <td>-0.440555</td>\n",
       "      <td>-1.128565</td>\n",
       "      <td>0.921231</td>\n",
       "      <td>-1.373878</td>\n",
       "      <td>-0.419580</td>\n",
       "      <td>1.226509</td>\n",
       "      <td>1.0</td>\n",
       "    </tr>\n",
       "    <tr>\n",
       "      <th>4151</th>\n",
       "      <td>0.0</td>\n",
       "      <td>12.395707</td>\n",
       "      <td>0.0</td>\n",
       "      <td>0.075315</td>\n",
       "      <td>-0.057688</td>\n",
       "      <td>1.065044</td>\n",
       "      <td>1.225361</td>\n",
       "      <td>1.442873</td>\n",
       "      <td>-2.444061</td>\n",
       "      <td>-0.517506</td>\n",
       "      <td>-0.743026</td>\n",
       "      <td>-0.459943</td>\n",
       "      <td>-0.473243</td>\n",
       "      <td>1.981402</td>\n",
       "      <td>-0.579994</td>\n",
       "      <td>0.530880</td>\n",
       "      <td>-0.234421</td>\n",
       "      <td>1.602286</td>\n",
       "      <td>1.0</td>\n",
       "    </tr>\n",
       "    <tr>\n",
       "      <th>783</th>\n",
       "      <td>1.0</td>\n",
       "      <td>14.098440</td>\n",
       "      <td>1.0</td>\n",
       "      <td>-0.416317</td>\n",
       "      <td>0.998391</td>\n",
       "      <td>0.021166</td>\n",
       "      <td>-2.619854</td>\n",
       "      <td>-0.140774</td>\n",
       "      <td>0.871997</td>\n",
       "      <td>-0.435263</td>\n",
       "      <td>0.278918</td>\n",
       "      <td>-0.275756</td>\n",
       "      <td>1.002986</td>\n",
       "      <td>0.479896</td>\n",
       "      <td>0.585253</td>\n",
       "      <td>-0.994416</td>\n",
       "      <td>-1.295810</td>\n",
       "      <td>0.152615</td>\n",
       "      <td>1.0</td>\n",
       "    </tr>\n",
       "    <tr>\n",
       "      <th>3810</th>\n",
       "      <td>0.0</td>\n",
       "      <td>8.150020</td>\n",
       "      <td>0.0</td>\n",
       "      <td>1.069262</td>\n",
       "      <td>-1.575730</td>\n",
       "      <td>-0.637359</td>\n",
       "      <td>-1.477574</td>\n",
       "      <td>-0.435708</td>\n",
       "      <td>0.193835</td>\n",
       "      <td>-0.558763</td>\n",
       "      <td>1.247881</td>\n",
       "      <td>-2.006386</td>\n",
       "      <td>-1.232677</td>\n",
       "      <td>1.027241</td>\n",
       "      <td>-1.637683</td>\n",
       "      <td>-0.593128</td>\n",
       "      <td>1.092633</td>\n",
       "      <td>1.240681</td>\n",
       "      <td>0.0</td>\n",
       "    </tr>\n",
       "  </tbody>\n",
       "</table>\n",
       "</div>"
      ],
      "text/plain": [
       "      treatment          y    Z        x1        x2        x3        x4  \\\n",
       "2081        1.0  12.804679  1.0 -0.987539 -0.549924 -0.192423 -0.051339   \n",
       "4329        0.0  11.180178  0.0 -1.280214  0.050470  1.322372  0.362025   \n",
       "4151        0.0  12.395707  0.0  0.075315 -0.057688  1.065044  1.225361   \n",
       "783         1.0  14.098440  1.0 -0.416317  0.998391  0.021166 -2.619854   \n",
       "3810        0.0   8.150020  0.0  1.069262 -1.575730 -0.637359 -1.477574   \n",
       "\n",
       "            x5        x6        x7        x8        x9       x10       x11  \\\n",
       "2081  0.617653 -0.293630  1.024159 -0.620957  1.364169 -0.386797 -0.876347   \n",
       "4329 -0.105957  1.673486 -1.672253 -1.355733 -0.902657 -0.440555 -1.128565   \n",
       "4151  1.442873 -2.444061 -0.517506 -0.743026 -0.459943 -0.473243  1.981402   \n",
       "783  -0.140774  0.871997 -0.435263  0.278918 -0.275756  1.002986  0.479896   \n",
       "3810 -0.435708  0.193835 -0.558763  1.247881 -2.006386 -1.232677  1.027241   \n",
       "\n",
       "           x12       x13       x14       x15  random  \n",
       "2081  0.084273  1.531466 -0.572508  0.743149     1.0  \n",
       "4329  0.921231 -1.373878 -0.419580  1.226509     1.0  \n",
       "4151 -0.579994  0.530880 -0.234421  1.602286     1.0  \n",
       "783   0.585253 -0.994416 -1.295810  0.152615     1.0  \n",
       "3810 -1.637683 -0.593128  1.092633  1.240681     0.0  "
      ]
     },
     "execution_count": 6,
     "metadata": {},
     "output_type": "execute_result"
    }
   ],
   "source": [
    "TRUE_EFFECT = 7.5\n",
    "\n",
    "CONSTANT_EFFECT = lambda X: TRUE_EFFECT\n",
    "\n",
    "data = iv_dgp_econml(n=50000, p=15, true_effect=CONSTANT_EFFECT)\n",
    "data_df, features_X, features_W = preprocess_dataset(\n",
    "    data, treatment, targets, instruments\n",
    ")\n",
    "outcome = targets[0]\n",
    "train_df, test_df = train_test_split(data_df, test_size=0.2)\n",
    "\n",
    "Xtest_constant_te = test_df[features_X]\n",
    "train_df.head()"
   ]
  },
  {
   "cell_type": "markdown",
   "metadata": {
    "pycharm": {
     "name": "#%% md\n"
    }
   },
   "source": [
    "For each treatment effect example, we fit a list of 6 IV models, scoring them with an energy distance score. The dataset is split into train, validation and a hold-out test set, and we report scores for each.\n",
    "\n",
    "As a baseline we use dowhy's simple IV estimator, implementing Ward's estimator and two-stage least squares (2SLS)\n",
    "The other estimators are implemented by EconML with details [here](https://econml.azurewebsites.net/reference.html#instrumental-variable-cate-estimators)\n",
    "\n",
    "The components time budget represent tuning budget allocated to each estimator model."
   ]
  },
  {
   "cell_type": "code",
   "execution_count": 36,
   "metadata": {
    "pycharm": {
     "name": "#%%\n"
    }
   },
   "outputs": [],
   "source": [
    "estimator_list = [\"SimpleIV\", \"SparseLinearDRIV\", \"DMLIV\", \"OrthoIV\", \"LinearDRIV\", \"LinearIntentToTreatDRIV\"]\n",
    "\n",
    "ac_constant_te = AutoCausality(\n",
    "    estimator_list=estimator_list,\n",
    "    verbose=3,\n",
    "    components_verbose=2,\n",
    "    components_time_budget=120,\n",
    "    propensity_model=\"dummy\",\n",
    ")\n",
    "\n",
    "ac_constant_te.fit(train_df, treatment, outcome, features_W, features_X, instruments)\n"
   ]
  },
  {
   "cell_type": "markdown",
   "metadata": {
    "pycharm": {
     "name": "#%% md\n"
    }
   },
   "source": [
    " We get the estimated effect for the best estimator by energy distance score"
   ]
  },
  {
   "cell_type": "code",
   "execution_count": 8,
   "metadata": {
    "pycharm": {
     "name": "#%%\n"
    }
   },
   "outputs": [],
   "source": [
    "# score all estimators on the test set\n",
    "def score_all_test(models):\n",
    "    for est_name, scr in models.scores.items():\n",
    "        try:\n",
    "            causal_estimate = scr['estimator']\n",
    "            scr['scores']['test'] = models.scorer.make_scores(causal_estimate, test_df, problem=ac.problem, metrics_to_report=ac.metrics_to_report)\n",
    "        except:\n",
    "            pass\n",
    "\n",
    "def ate_mse(scores, true_effect=TRUE_EFFECT):\n",
    "    return  [(v-true_effect)**2 for v in scores]\n"
   ]
  },
  {
   "cell_type": "code",
   "execution_count": 21,
   "metadata": {
    "pycharm": {
     "name": "#%%\n"
    }
   },
   "outputs": [],
   "source": [
    "def get_est_effects(models, test_x, te=TRUE_EFFECT):\n",
    "    est_scores = []\n",
    "    for est_name, scr in models.scores.items():\n",
    "        est_effect = scr[\"estimator\"].estimator.effect(test_x).mean()\n",
    "        est_scores.append([est_name, est_effect, (est_effect-te)**2])\n",
    "\n",
    "    return pd.DataFrame(est_scores, columns=[\"estimator\", \"estimated_effect\", \"ate_mse\"])\n"
   ]
  },
  {
   "cell_type": "code",
   "execution_count": 30,
   "metadata": {
    "pycharm": {
     "name": "#%%\n"
    }
   },
   "outputs": [],
   "source": [
    "%matplotlib inline\n",
    "\n",
    "def graph_compare_estimators(model):\n",
    "    colors = ([matplotlib.colors.CSS4_COLORS['black']] +\n",
    "        list(matplotlib.colors.TABLEAU_COLORS) + [\n",
    "        matplotlib.colors.CSS4_COLORS['lime'],\n",
    "        matplotlib.colors.CSS4_COLORS['yellow'],\n",
    "        matplotlib.colors.CSS4_COLORS['pink']\n",
    "    ])\n",
    "\n",
    "\n",
    "    plt.figure(figsize = (7,5))\n",
    "    plt.title(outcome)\n",
    "\n",
    "    m1 = \"energy_distance\"\n",
    "    m2 = \"ate\"\n",
    "\n",
    "    splits =  [\"train\", \"validation\", \"test\"]\n",
    "\n",
    "    for (est, scr), col in zip(model.scores.items(), colors):\n",
    "        try:\n",
    "            scores  = scr[\"scores\"]\n",
    "            sc = [scores[v][m1] for v in splits]\n",
    "            crv = ate_mse([scores[v][m2] for v in splits])\n",
    "            plt.plot(sc, crv, color=col, marker=\"o\", label=est)\n",
    "            plt.scatter(sc[1:2],crv[1:2], c=col, s=70, label=\"_nolegend_\" )\n",
    "            plt.scatter(sc[2:],crv[2:], c=col, s=120, label=\"_nolegend_\" )\n",
    "\n",
    "        except Exception as e:\n",
    "            print(e)\n",
    "            pass\n",
    "\n",
    "    plt.xlabel(m1)\n",
    "    plt.ylabel(f\"{m2}_MSE\")\n",
    "    plt.legend(bbox_to_anchor=(1.04,1), borderaxespad=0)\n",
    "\n",
    "    plt.grid()\n",
    "    plt.show()\n"
   ]
  },
  {
   "cell_type": "markdown",
   "metadata": {
    "pycharm": {
     "name": "#%% md\n"
    }
   },
   "source": [
    "First we see the estimated effect for each model, and respective MSE compared with true effect"
   ]
  },
  {
   "cell_type": "code",
   "execution_count": 24,
   "metadata": {
    "pycharm": {
     "name": "#%%\n"
    }
   },
   "outputs": [
    {
     "data": {
      "text/html": [
       "<div>\n",
       "<style scoped>\n",
       "    .dataframe tbody tr th:only-of-type {\n",
       "        vertical-align: middle;\n",
       "    }\n",
       "\n",
       "    .dataframe tbody tr th {\n",
       "        vertical-align: top;\n",
       "    }\n",
       "\n",
       "    .dataframe thead th {\n",
       "        text-align: right;\n",
       "    }\n",
       "</style>\n",
       "<table border=\"1\" class=\"dataframe\">\n",
       "  <thead>\n",
       "    <tr style=\"text-align: right;\">\n",
       "      <th></th>\n",
       "      <th>estimator</th>\n",
       "      <th>estimated_effect</th>\n",
       "      <th>ate_mse</th>\n",
       "    </tr>\n",
       "  </thead>\n",
       "  <tbody>\n",
       "    <tr>\n",
       "      <th>0</th>\n",
       "      <td>iv.auto_causality.models.SimpleIV</td>\n",
       "      <td>7.475368</td>\n",
       "      <td>0.000607</td>\n",
       "    </tr>\n",
       "    <tr>\n",
       "      <th>1</th>\n",
       "      <td>iv.econml.iv.dml.DMLIV</td>\n",
       "      <td>3.743179</td>\n",
       "      <td>14.113707</td>\n",
       "    </tr>\n",
       "    <tr>\n",
       "      <th>2</th>\n",
       "      <td>iv.econml.iv.dml.OrthoIV</td>\n",
       "      <td>7.574516</td>\n",
       "      <td>0.005553</td>\n",
       "    </tr>\n",
       "    <tr>\n",
       "      <th>3</th>\n",
       "      <td>iv.econml.iv.dr.LinearDRIV</td>\n",
       "      <td>3.791014</td>\n",
       "      <td>13.756576</td>\n",
       "    </tr>\n",
       "    <tr>\n",
       "      <th>4</th>\n",
       "      <td>iv.econml.iv.dr.LinearIntentToTreatDRIV</td>\n",
       "      <td>7.507574</td>\n",
       "      <td>0.000057</td>\n",
       "    </tr>\n",
       "    <tr>\n",
       "      <th>5</th>\n",
       "      <td>iv.econml.iv.dr.SparseLinearDRIV</td>\n",
       "      <td>5.705097</td>\n",
       "      <td>3.221677</td>\n",
       "    </tr>\n",
       "  </tbody>\n",
       "</table>\n",
       "</div>"
      ],
      "text/plain": [
       "                                 estimator  estimated_effect    ate_mse\n",
       "0        iv.auto_causality.models.SimpleIV          7.475368   0.000607\n",
       "1                   iv.econml.iv.dml.DMLIV          3.743179  14.113707\n",
       "2                 iv.econml.iv.dml.OrthoIV          7.574516   0.005553\n",
       "3               iv.econml.iv.dr.LinearDRIV          3.791014  13.756576\n",
       "4  iv.econml.iv.dr.LinearIntentToTreatDRIV          7.507574   0.000057\n",
       "5         iv.econml.iv.dr.SparseLinearDRIV          5.705097   3.221677"
      ]
     },
     "execution_count": 24,
     "metadata": {},
     "output_type": "execute_result"
    }
   ],
   "source": [
    "get_est_effects(ac_constant_te, Xtest_constant_te)"
   ]
  },
  {
   "cell_type": "markdown",
   "metadata": {
    "pycharm": {
     "name": "#%% md\n"
    }
   },
   "source": [
    "In the plots we show the energy distance scores on the train, validation and hold-out test sets compared with the mean squared error between estimated effect and the true effect"
   ]
  },
  {
   "cell_type": "code",
   "execution_count": 31,
   "metadata": {
    "pycharm": {
     "name": "#%%\n"
    }
   },
   "outputs": [
    {
     "data": {
      "image/png": "[encoded data removed]",
      "text/plain": [
       "<Figure size 700x500 with 1 Axes>"
      ]
     },
     "metadata": {},
     "output_type": "display_data"
    }
   ],
   "source": [
    "score_all_test(ac_constant_te)\n",
    "graph_compare_estimators(ac_constant_te)"
   ]
  },
  {
   "cell_type": "markdown",
   "metadata": {
    "pycharm": {
     "name": "#%% md\n"
    }
   },
   "source": [
    "### Model Fitting (2): Heterogeneous Treatment Effect\n",
    "\n",
    "Here we replace the constant treatment effect with a linear treatment effect function of some covariates  to estimate heterogeneous effects.\n",
    "\n",
    "\\begin{align}\n",
    "\\theta = \\; & 7.5  \\cdot   (X[2] + X[7]) \\tag{ATE}\\\\\n",
    "\\end{align}"
   ]
  },
  {
   "cell_type": "code",
   "execution_count": 13,
   "metadata": {
    "pycharm": {
     "name": "#%%\n"
    }
   },
   "outputs": [
    {
     "data": {
      "text/html": [
       "<div>\n",
       "<style scoped>\n",
       "    .dataframe tbody tr th:only-of-type {\n",
       "        vertical-align: middle;\n",
       "    }\n",
       "\n",
       "    .dataframe tbody tr th {\n",
       "        vertical-align: top;\n",
       "    }\n",
       "\n",
       "    .dataframe thead th {\n",
       "        text-align: right;\n",
       "    }\n",
       "</style>\n",
       "<table border=\"1\" class=\"dataframe\">\n",
       "  <thead>\n",
       "    <tr style=\"text-align: right;\">\n",
       "      <th></th>\n",
       "      <th>treatment</th>\n",
       "      <th>y</th>\n",
       "      <th>Z</th>\n",
       "      <th>x1</th>\n",
       "      <th>x2</th>\n",
       "      <th>x3</th>\n",
       "      <th>x4</th>\n",
       "      <th>x5</th>\n",
       "      <th>x6</th>\n",
       "      <th>x7</th>\n",
       "      <th>x8</th>\n",
       "      <th>x9</th>\n",
       "      <th>x10</th>\n",
       "      <th>x11</th>\n",
       "      <th>x12</th>\n",
       "      <th>x13</th>\n",
       "      <th>x14</th>\n",
       "      <th>x15</th>\n",
       "      <th>random</th>\n",
       "    </tr>\n",
       "  </thead>\n",
       "  <tbody>\n",
       "    <tr>\n",
       "      <th>476</th>\n",
       "      <td>0.0</td>\n",
       "      <td>4.156738</td>\n",
       "      <td>1.0</td>\n",
       "      <td>-1.151120</td>\n",
       "      <td>-0.341043</td>\n",
       "      <td>-0.192166</td>\n",
       "      <td>-0.211528</td>\n",
       "      <td>1.568461</td>\n",
       "      <td>0.450164</td>\n",
       "      <td>0.436224</td>\n",
       "      <td>0.976537</td>\n",
       "      <td>-0.361160</td>\n",
       "      <td>1.397600</td>\n",
       "      <td>0.209632</td>\n",
       "      <td>-1.412590</td>\n",
       "      <td>0.011914</td>\n",
       "      <td>-0.535702</td>\n",
       "      <td>-0.704933</td>\n",
       "      <td>0.0</td>\n",
       "    </tr>\n",
       "    <tr>\n",
       "      <th>3239</th>\n",
       "      <td>1.0</td>\n",
       "      <td>17.358908</td>\n",
       "      <td>1.0</td>\n",
       "      <td>0.468839</td>\n",
       "      <td>-0.643806</td>\n",
       "      <td>-0.126693</td>\n",
       "      <td>4.722913</td>\n",
       "      <td>0.929081</td>\n",
       "      <td>0.105032</td>\n",
       "      <td>-0.655209</td>\n",
       "      <td>0.486633</td>\n",
       "      <td>-0.189825</td>\n",
       "      <td>-0.998314</td>\n",
       "      <td>-0.054959</td>\n",
       "      <td>-0.720656</td>\n",
       "      <td>0.803423</td>\n",
       "      <td>-1.784907</td>\n",
       "      <td>0.419442</td>\n",
       "      <td>1.0</td>\n",
       "    </tr>\n",
       "    <tr>\n",
       "      <th>613</th>\n",
       "      <td>0.0</td>\n",
       "      <td>9.153475</td>\n",
       "      <td>0.0</td>\n",
       "      <td>1.047092</td>\n",
       "      <td>-0.972918</td>\n",
       "      <td>0.122322</td>\n",
       "      <td>0.661225</td>\n",
       "      <td>-0.804772</td>\n",
       "      <td>-0.142957</td>\n",
       "      <td>0.425869</td>\n",
       "      <td>-1.680813</td>\n",
       "      <td>-0.618027</td>\n",
       "      <td>0.408714</td>\n",
       "      <td>-0.272679</td>\n",
       "      <td>-0.460878</td>\n",
       "      <td>0.664304</td>\n",
       "      <td>-0.356103</td>\n",
       "      <td>0.426782</td>\n",
       "      <td>1.0</td>\n",
       "    </tr>\n",
       "    <tr>\n",
       "      <th>4770</th>\n",
       "      <td>0.0</td>\n",
       "      <td>4.351648</td>\n",
       "      <td>0.0</td>\n",
       "      <td>-0.286730</td>\n",
       "      <td>-1.337752</td>\n",
       "      <td>-0.038457</td>\n",
       "      <td>-1.290970</td>\n",
       "      <td>0.780953</td>\n",
       "      <td>-0.131588</td>\n",
       "      <td>-0.192165</td>\n",
       "      <td>-0.230882</td>\n",
       "      <td>0.089163</td>\n",
       "      <td>0.521245</td>\n",
       "      <td>0.030602</td>\n",
       "      <td>-1.166620</td>\n",
       "      <td>-0.125632</td>\n",
       "      <td>0.279105</td>\n",
       "      <td>0.466312</td>\n",
       "      <td>1.0</td>\n",
       "    </tr>\n",
       "    <tr>\n",
       "      <th>2272</th>\n",
       "      <td>1.0</td>\n",
       "      <td>3.729948</td>\n",
       "      <td>1.0</td>\n",
       "      <td>-1.535214</td>\n",
       "      <td>-0.681066</td>\n",
       "      <td>0.671984</td>\n",
       "      <td>-1.860252</td>\n",
       "      <td>1.258648</td>\n",
       "      <td>0.063771</td>\n",
       "      <td>1.789265</td>\n",
       "      <td>-1.357620</td>\n",
       "      <td>1.170905</td>\n",
       "      <td>0.141171</td>\n",
       "      <td>0.347550</td>\n",
       "      <td>-0.594062</td>\n",
       "      <td>1.815731</td>\n",
       "      <td>-0.828970</td>\n",
       "      <td>1.070730</td>\n",
       "      <td>0.0</td>\n",
       "    </tr>\n",
       "  </tbody>\n",
       "</table>\n",
       "</div>"
      ],
      "text/plain": [
       "      treatment          y    Z        x1        x2        x3        x4  \\\n",
       "476         0.0   4.156738  1.0 -1.151120 -0.341043 -0.192166 -0.211528   \n",
       "3239        1.0  17.358908  1.0  0.468839 -0.643806 -0.126693  4.722913   \n",
       "613         0.0   9.153475  0.0  1.047092 -0.972918  0.122322  0.661225   \n",
       "4770        0.0   4.351648  0.0 -0.286730 -1.337752 -0.038457 -1.290970   \n",
       "2272        1.0   3.729948  1.0 -1.535214 -0.681066  0.671984 -1.860252   \n",
       "\n",
       "            x5        x6        x7        x8        x9       x10       x11  \\\n",
       "476   1.568461  0.450164  0.436224  0.976537 -0.361160  1.397600  0.209632   \n",
       "3239  0.929081  0.105032 -0.655209  0.486633 -0.189825 -0.998314 -0.054959   \n",
       "613  -0.804772 -0.142957  0.425869 -1.680813 -0.618027  0.408714 -0.272679   \n",
       "4770  0.780953 -0.131588 -0.192165 -0.230882  0.089163  0.521245  0.030602   \n",
       "2272  1.258648  0.063771  1.789265 -1.357620  1.170905  0.141171  0.347550   \n",
       "\n",
       "           x12       x13       x14       x15  random  \n",
       "476  -1.412590  0.011914 -0.535702 -0.704933     0.0  \n",
       "3239 -0.720656  0.803423 -1.784907  0.419442     1.0  \n",
       "613  -0.460878  0.664304 -0.356103  0.426782     1.0  \n",
       "4770 -1.166620 -0.125632  0.279105  0.466312     1.0  \n",
       "2272 -0.594062  1.815731 -0.828970  1.070730     0.0  "
      ]
     },
     "execution_count": 13,
     "metadata": {},
     "output_type": "execute_result"
    }
   ],
   "source": [
    "LINEAR_EFFECT = lambda X: TRUE_EFFECT * (X[:, 2] + X[:, 7])\n",
    "\n",
    "data = iv_dgp_econml(n=5000, p=15, true_effect=LINEAR_EFFECT)\n",
    "data_df, features_X, features_W = preprocess_dataset(\n",
    "    data, treatment, targets, instruments\n",
    ")\n",
    "outcome = targets[0]\n",
    "train_df, test_df = train_test_split(data_df, test_size=0.2)\n",
    "\n",
    "Xtest_linear_te = test_df[features_X]\n",
    "train_df.head()"
   ]
  },
  {
   "cell_type": "code",
   "execution_count": 34,
   "metadata": {
    "pycharm": {
     "name": "#%%\n"
    }
   },
   "outputs": [],
   "source": [
    "ac_linear_te = AutoCausality(\n",
    "    estimator_list=estimator_list,\n",
    "    verbose=3,\n",
    "    components_verbose=2,\n",
    "    components_time_budget=120,\n",
    "    propensity_model=\"dummy\",\n",
    ")\n",
    "\n",
    "ac_linear_te.fit(train_df, treatment, outcome, features_W, features_X, instruments)"
   ]
  },
  {
   "cell_type": "code",
   "execution_count": 25,
   "metadata": {
    "pycharm": {
     "name": "#%%\n"
    }
   },
   "outputs": [
    {
     "data": {
      "text/html": [
       "<div>\n",
       "<style scoped>\n",
       "    .dataframe tbody tr th:only-of-type {\n",
       "        vertical-align: middle;\n",
       "    }\n",
       "\n",
       "    .dataframe tbody tr th {\n",
       "        vertical-align: top;\n",
       "    }\n",
       "\n",
       "    .dataframe thead th {\n",
       "        text-align: right;\n",
       "    }\n",
       "</style>\n",
       "<table border=\"1\" class=\"dataframe\">\n",
       "  <thead>\n",
       "    <tr style=\"text-align: right;\">\n",
       "      <th></th>\n",
       "      <th>estimator</th>\n",
       "      <th>estimated_effect</th>\n",
       "      <th>ate_mse</th>\n",
       "    </tr>\n",
       "  </thead>\n",
       "  <tbody>\n",
       "    <tr>\n",
       "      <th>0</th>\n",
       "      <td>iv.auto_causality.models.SimpleIV</td>\n",
       "      <td>0.409788</td>\n",
       "      <td>50.271103</td>\n",
       "    </tr>\n",
       "    <tr>\n",
       "      <th>1</th>\n",
       "      <td>iv.econml.iv.dml.DMLIV</td>\n",
       "      <td>-0.021106</td>\n",
       "      <td>56.567042</td>\n",
       "    </tr>\n",
       "    <tr>\n",
       "      <th>2</th>\n",
       "      <td>iv.econml.iv.dml.OrthoIV</td>\n",
       "      <td>0.105579</td>\n",
       "      <td>54.677467</td>\n",
       "    </tr>\n",
       "    <tr>\n",
       "      <th>3</th>\n",
       "      <td>iv.econml.iv.dr.LinearDRIV</td>\n",
       "      <td>0.022670</td>\n",
       "      <td>55.910463</td>\n",
       "    </tr>\n",
       "    <tr>\n",
       "      <th>4</th>\n",
       "      <td>iv.econml.iv.dr.LinearIntentToTreatDRIV</td>\n",
       "      <td>0.284875</td>\n",
       "      <td>52.058026</td>\n",
       "    </tr>\n",
       "    <tr>\n",
       "      <th>5</th>\n",
       "      <td>iv.econml.iv.dr.SparseLinearDRIV</td>\n",
       "      <td>0.162762</td>\n",
       "      <td>53.835059</td>\n",
       "    </tr>\n",
       "  </tbody>\n",
       "</table>\n",
       "</div>"
      ],
      "text/plain": [
       "                                 estimator  estimated_effect    ate_mse\n",
       "0        iv.auto_causality.models.SimpleIV          0.409788  50.271103\n",
       "1                   iv.econml.iv.dml.DMLIV         -0.021106  56.567042\n",
       "2                 iv.econml.iv.dml.OrthoIV          0.105579  54.677467\n",
       "3               iv.econml.iv.dr.LinearDRIV          0.022670  55.910463\n",
       "4  iv.econml.iv.dr.LinearIntentToTreatDRIV          0.284875  52.058026\n",
       "5         iv.econml.iv.dr.SparseLinearDRIV          0.162762  53.835059"
      ]
     },
     "execution_count": 25,
     "metadata": {},
     "output_type": "execute_result"
    }
   ],
   "source": [
    "get_est_effects(ac_linear_te, Xtest_linear_te)"
   ]
  },
  {
   "cell_type": "code",
   "execution_count": 32,
   "metadata": {
    "pycharm": {
     "name": "#%%\n"
    }
   },
   "outputs": [
    {
     "data": {
      "image/png": "[encoded data removed]",
      "text/plain": [
       "<Figure size 700x500 with 1 Axes>"
      ]
     },
     "metadata": {},
     "output_type": "display_data"
    }
   ],
   "source": [
    "score_all_test(ac_linear_te)\n",
    "graph_compare_estimators(ac_linear_te)"
   ]
  },
  {
   "cell_type": "markdown",
   "metadata": {
    "pycharm": {
     "name": "#%% md\n"
    }
   },
   "source": [
    "### Model Fitting (3): Non-linear Heterogeneous Treatment Effect\n",
    "\n",
    "Finally we explore non-linear heterogeneous treatment effects with the function below:\n",
    "\n",
    "\\begin{align}\n",
    "\\theta = \\; & 7.5  \\cdot   (X[2] + X[7]) \\tag{ATE}\\\\\n",
    "\\end{align}\n"
   ]
  },
  {
   "cell_type": "code",
   "execution_count": 17,
   "metadata": {
    "pycharm": {
     "name": "#%%\n"
    }
   },
   "outputs": [
    {
     "data": {
      "text/html": [
       "<div>\n",
       "<style scoped>\n",
       "    .dataframe tbody tr th:only-of-type {\n",
       "        vertical-align: middle;\n",
       "    }\n",
       "\n",
       "    .dataframe tbody tr th {\n",
       "        vertical-align: top;\n",
       "    }\n",
       "\n",
       "    .dataframe thead th {\n",
       "        text-align: right;\n",
       "    }\n",
       "</style>\n",
       "<table border=\"1\" class=\"dataframe\">\n",
       "  <thead>\n",
       "    <tr style=\"text-align: right;\">\n",
       "      <th></th>\n",
       "      <th>treatment</th>\n",
       "      <th>y</th>\n",
       "      <th>Z</th>\n",
       "      <th>x1</th>\n",
       "      <th>x2</th>\n",
       "      <th>x3</th>\n",
       "      <th>x4</th>\n",
       "      <th>x5</th>\n",
       "      <th>x6</th>\n",
       "      <th>x7</th>\n",
       "      <th>x8</th>\n",
       "      <th>x9</th>\n",
       "      <th>x10</th>\n",
       "      <th>x11</th>\n",
       "      <th>x12</th>\n",
       "      <th>x13</th>\n",
       "      <th>x14</th>\n",
       "      <th>x15</th>\n",
       "      <th>random</th>\n",
       "    </tr>\n",
       "  </thead>\n",
       "  <tbody>\n",
       "    <tr>\n",
       "      <th>4883</th>\n",
       "      <td>0.0</td>\n",
       "      <td>5.642340</td>\n",
       "      <td>0.0</td>\n",
       "      <td>-0.166649</td>\n",
       "      <td>-0.037972</td>\n",
       "      <td>-2.462183</td>\n",
       "      <td>-0.661645</td>\n",
       "      <td>-1.274812</td>\n",
       "      <td>2.164241</td>\n",
       "      <td>-1.327964</td>\n",
       "      <td>-0.051017</td>\n",
       "      <td>0.313797</td>\n",
       "      <td>-0.090737</td>\n",
       "      <td>-0.743466</td>\n",
       "      <td>0.387685</td>\n",
       "      <td>0.239865</td>\n",
       "      <td>1.189409</td>\n",
       "      <td>-2.573799</td>\n",
       "      <td>0.0</td>\n",
       "    </tr>\n",
       "    <tr>\n",
       "      <th>2386</th>\n",
       "      <td>0.0</td>\n",
       "      <td>2.351887</td>\n",
       "      <td>1.0</td>\n",
       "      <td>-1.471137</td>\n",
       "      <td>0.640296</td>\n",
       "      <td>0.966827</td>\n",
       "      <td>-0.630309</td>\n",
       "      <td>2.840237</td>\n",
       "      <td>-1.403959</td>\n",
       "      <td>0.993368</td>\n",
       "      <td>-0.772781</td>\n",
       "      <td>-0.332158</td>\n",
       "      <td>-0.068102</td>\n",
       "      <td>-1.589545</td>\n",
       "      <td>-0.451900</td>\n",
       "      <td>-0.904239</td>\n",
       "      <td>-0.666099</td>\n",
       "      <td>-0.479209</td>\n",
       "      <td>1.0</td>\n",
       "    </tr>\n",
       "    <tr>\n",
       "      <th>4030</th>\n",
       "      <td>0.0</td>\n",
       "      <td>4.001770</td>\n",
       "      <td>1.0</td>\n",
       "      <td>-0.561018</td>\n",
       "      <td>0.464426</td>\n",
       "      <td>1.549468</td>\n",
       "      <td>-0.208957</td>\n",
       "      <td>-0.813260</td>\n",
       "      <td>-0.340804</td>\n",
       "      <td>0.438366</td>\n",
       "      <td>-0.605109</td>\n",
       "      <td>-0.281733</td>\n",
       "      <td>1.120829</td>\n",
       "      <td>0.689588</td>\n",
       "      <td>1.295571</td>\n",
       "      <td>1.067522</td>\n",
       "      <td>0.424703</td>\n",
       "      <td>-0.668093</td>\n",
       "      <td>0.0</td>\n",
       "    </tr>\n",
       "    <tr>\n",
       "      <th>2448</th>\n",
       "      <td>0.0</td>\n",
       "      <td>8.935736</td>\n",
       "      <td>0.0</td>\n",
       "      <td>-0.841337</td>\n",
       "      <td>0.889617</td>\n",
       "      <td>-0.589731</td>\n",
       "      <td>0.392965</td>\n",
       "      <td>-0.811575</td>\n",
       "      <td>-2.079406</td>\n",
       "      <td>-0.308424</td>\n",
       "      <td>-0.056356</td>\n",
       "      <td>2.167229</td>\n",
       "      <td>-0.510654</td>\n",
       "      <td>-0.144820</td>\n",
       "      <td>0.903875</td>\n",
       "      <td>0.287287</td>\n",
       "      <td>2.137014</td>\n",
       "      <td>-0.863859</td>\n",
       "      <td>1.0</td>\n",
       "    </tr>\n",
       "    <tr>\n",
       "      <th>3809</th>\n",
       "      <td>0.0</td>\n",
       "      <td>5.696070</td>\n",
       "      <td>0.0</td>\n",
       "      <td>-0.849518</td>\n",
       "      <td>0.074309</td>\n",
       "      <td>0.024217</td>\n",
       "      <td>0.373959</td>\n",
       "      <td>-0.040285</td>\n",
       "      <td>0.633923</td>\n",
       "      <td>0.904897</td>\n",
       "      <td>0.516027</td>\n",
       "      <td>0.547131</td>\n",
       "      <td>0.387320</td>\n",
       "      <td>1.336018</td>\n",
       "      <td>-0.242165</td>\n",
       "      <td>-0.037972</td>\n",
       "      <td>-1.099770</td>\n",
       "      <td>-0.093276</td>\n",
       "      <td>1.0</td>\n",
       "    </tr>\n",
       "  </tbody>\n",
       "</table>\n",
       "</div>"
      ],
      "text/plain": [
       "      treatment         y    Z        x1        x2        x3        x4  \\\n",
       "4883        0.0  5.642340  0.0 -0.166649 -0.037972 -2.462183 -0.661645   \n",
       "2386        0.0  2.351887  1.0 -1.471137  0.640296  0.966827 -0.630309   \n",
       "4030        0.0  4.001770  1.0 -0.561018  0.464426  1.549468 -0.208957   \n",
       "2448        0.0  8.935736  0.0 -0.841337  0.889617 -0.589731  0.392965   \n",
       "3809        0.0  5.696070  0.0 -0.849518  0.074309  0.024217  0.373959   \n",
       "\n",
       "            x5        x6        x7        x8        x9       x10       x11  \\\n",
       "4883 -1.274812  2.164241 -1.327964 -0.051017  0.313797 -0.090737 -0.743466   \n",
       "2386  2.840237 -1.403959  0.993368 -0.772781 -0.332158 -0.068102 -1.589545   \n",
       "4030 -0.813260 -0.340804  0.438366 -0.605109 -0.281733  1.120829  0.689588   \n",
       "2448 -0.811575 -2.079406 -0.308424 -0.056356  2.167229 -0.510654 -0.144820   \n",
       "3809 -0.040285  0.633923  0.904897  0.516027  0.547131  0.387320  1.336018   \n",
       "\n",
       "           x12       x13       x14       x15  random  \n",
       "4883  0.387685  0.239865  1.189409 -2.573799     0.0  \n",
       "2386 -0.451900 -0.904239 -0.666099 -0.479209     1.0  \n",
       "4030  1.295571  1.067522  0.424703 -0.668093     0.0  \n",
       "2448  0.903875  0.287287  2.137014 -0.863859     1.0  \n",
       "3809 -0.242165 -0.037972 -1.099770 -0.093276     1.0  "
      ]
     },
     "execution_count": 17,
     "metadata": {},
     "output_type": "execute_result"
    }
   ],
   "source": [
    "QUADRATIC_EFFECT = lambda X: TRUE_EFFECT * (X[:, 2] ** 2)\n",
    "\n",
    "data = iv_dgp_econml(n=5000, p=15, true_effect=QUADRATIC_EFFECT)\n",
    "data_df, features_X, features_W = preprocess_dataset(\n",
    "    data, treatment, targets, instruments\n",
    ")\n",
    "outcome = targets[0]\n",
    "train_df, test_df = train_test_split(data_df, test_size=0.2)\n",
    "Xtest = test_df[features_X]\n",
    "train_df.head()"
   ]
  },
  {
   "cell_type": "code",
   "execution_count": 35,
   "metadata": {
    "pycharm": {
     "name": "#%%\n"
    }
   },
   "outputs": [],
   "source": [
    "ac_quad_te = AutoCausality(\n",
    "    estimator_list=estimator_list,\n",
    "    verbose=3,\n",
    "    components_verbose=2,\n",
    "    components_time_budget=120,\n",
    "    propensity_model=\"dummy\",\n",
    ")\n",
    "\n",
    "ac_quad_te.fit(train_df, treatment, outcome, features_W, features_X, instruments)\n"
   ]
  },
  {
   "cell_type": "code",
   "execution_count": 26,
   "metadata": {
    "pycharm": {
     "name": "#%%\n"
    }
   },
   "outputs": [
    {
     "data": {
      "text/html": [
       "<div>\n",
       "<style scoped>\n",
       "    .dataframe tbody tr th:only-of-type {\n",
       "        vertical-align: middle;\n",
       "    }\n",
       "\n",
       "    .dataframe tbody tr th {\n",
       "        vertical-align: top;\n",
       "    }\n",
       "\n",
       "    .dataframe thead th {\n",
       "        text-align: right;\n",
       "    }\n",
       "</style>\n",
       "<table border=\"1\" class=\"dataframe\">\n",
       "  <thead>\n",
       "    <tr style=\"text-align: right;\">\n",
       "      <th></th>\n",
       "      <th>estimator</th>\n",
       "      <th>estimated_effect</th>\n",
       "      <th>ate_mse</th>\n",
       "    </tr>\n",
       "  </thead>\n",
       "  <tbody>\n",
       "    <tr>\n",
       "      <th>0</th>\n",
       "      <td>iv.auto_causality.models.SimpleIV</td>\n",
       "      <td>7.573547</td>\n",
       "      <td>0.005409</td>\n",
       "    </tr>\n",
       "    <tr>\n",
       "      <th>1</th>\n",
       "      <td>iv.econml.iv.dml.DMLIV</td>\n",
       "      <td>3.591073</td>\n",
       "      <td>15.279712</td>\n",
       "    </tr>\n",
       "    <tr>\n",
       "      <th>2</th>\n",
       "      <td>iv.econml.iv.dml.OrthoIV</td>\n",
       "      <td>7.395235</td>\n",
       "      <td>0.010976</td>\n",
       "    </tr>\n",
       "    <tr>\n",
       "      <th>3</th>\n",
       "      <td>iv.econml.iv.dr.LinearDRIV</td>\n",
       "      <td>3.757597</td>\n",
       "      <td>14.005577</td>\n",
       "    </tr>\n",
       "    <tr>\n",
       "      <th>4</th>\n",
       "      <td>iv.econml.iv.dr.LinearIntentToTreatDRIV</td>\n",
       "      <td>7.432717</td>\n",
       "      <td>0.004527</td>\n",
       "    </tr>\n",
       "    <tr>\n",
       "      <th>5</th>\n",
       "      <td>iv.econml.iv.dr.SparseLinearDRIV</td>\n",
       "      <td>5.355130</td>\n",
       "      <td>4.600468</td>\n",
       "    </tr>\n",
       "  </tbody>\n",
       "</table>\n",
       "</div>"
      ],
      "text/plain": [
       "                                 estimator  estimated_effect    ate_mse\n",
       "0        iv.auto_causality.models.SimpleIV          7.573547   0.005409\n",
       "1                   iv.econml.iv.dml.DMLIV          3.591073  15.279712\n",
       "2                 iv.econml.iv.dml.OrthoIV          7.395235   0.010976\n",
       "3               iv.econml.iv.dr.LinearDRIV          3.757597  14.005577\n",
       "4  iv.econml.iv.dr.LinearIntentToTreatDRIV          7.432717   0.004527\n",
       "5         iv.econml.iv.dr.SparseLinearDRIV          5.355130   4.600468"
      ]
     },
     "execution_count": 26,
     "metadata": {},
     "output_type": "execute_result"
    }
   ],
   "source": [
    "get_est_effects(ac_quad_te, Xtest)"
   ]
  },
  {
   "cell_type": "code",
   "execution_count": 33,
   "metadata": {
    "pycharm": {
     "name": "#%%\n"
    }
   },
   "outputs": [
    {
     "data": {
      "image/png": "[encoded data removed]",
      "text/plain": [
       "<Figure size 700x500 with 1 Axes>"
      ]
     },
     "metadata": {},
     "output_type": "display_data"
    }
   ],
   "source": [
    "score_all_test(ac_quad_te)\n",
    "graph_compare_estimators(ac_quad_te)\n"
   ]
  },
  {
   "cell_type": "code",
   "execution_count": null,
   "metadata": {
    "pycharm": {
     "name": "#%%\n"
    }
   },
   "outputs": [],
   "source": []
  }
 ],
 "metadata": {
  "kernelspec": {
   "display_name": "Python 3 (ipykernel)",
   "language": "python",
   "name": "python3"
  },
  "language_info": {
   "codemirror_mode": {
    "name": "ipython",
    "version": 3
   },
   "file_extension": ".py",
   "mimetype": "text/x-python",
   "name": "python",
   "nbconvert_exporter": "python",
   "pygments_lexer": "ipython3",
   "version": "3.7.13"
  }
 },
 "nbformat": 4,
 "nbformat_minor": 1
}
